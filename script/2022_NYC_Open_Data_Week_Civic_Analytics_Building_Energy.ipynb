{
 "cells": [
  {
   "cell_type": "markdown",
   "metadata": {},
   "source": [
    "# Civic Analytics Using Open Data - Building Energy Data\n",
    "### 2022 NYC Open Data Week\n",
    "\n",
    "#### Author:  \n",
    "**Bartosz Bonczak**  \n",
    "Research Scientist and Lab Manager  \n",
    "Civic Analytics Program @ NYU Marron Institute of Urban Management  \n",
    "email: [bartosz.bonczak@nyu.edu](mailto:bartosz.bonczak@nyu.edu)\n",
    "\n",
    "website: https://www.urbanintelligencelab.org  \n",
    "GitHub: https://github.com/UrbanIntelligenceLab  \n",
    "Social: [@UrbanIntelLab](https://twitter.com/urbanintellab)\n",
    "\n",
    "#### Summary:\n",
    "In this hands-on lab section we will breifly introduce Building Energy Benchmarking Data in NYC (aka \"Energy and Water Data Disclosure for Local Law 84\", LL84 data). \n",
    "\n",
    "#### About Local Law 84 Data\n",
    "The NYC Benchmarking Law requires owners of large buildings greater than 25,000 ft$^2$ to annually measure their energy and water consumption in a process called benchmarking. The law standardizes this process by requiring building owners to enter their annual energy and water use in the U.S. Environmental Protection Agency's (EPA) online tool, ENERGY STAR Portfolio Manager® and use the tool to submit data to the City. Building Energy Benchmarking data is then published by the City administration on an annual basis. Up until now we have 11 years worth of data available on [NYC Open Data Platform](https://opendata.cityofnewyork.us). This data informs building owners about a building's energy and water consumption compared to similar buildings, and tracks progress year over year to help in energy efficiency planning."
   ]
  },
  {
   "cell_type": "code",
   "execution_count": 1,
   "metadata": {},
   "outputs": [],
   "source": [
    "# import required libraries\n",
    "import pandas as pd\n",
    "import numpy as np\n",
    "\n",
    "from sodapy import Socrata\n",
    "\n",
    "from urllib.request import urlopen\n",
    "import json\n",
    "\n",
    "import matplotlib.pyplot as plt\n",
    "from matplotlib import cm\n",
    "from matplotlib.colors import ListedColormap\n",
    "%matplotlib inline\n",
    "\n",
    "from pywaffle import Waffle\n",
    "\n",
    "import seaborn as sns\n",
    "sns.set_style('whitegrid')\n",
    "\n",
    "import geopandas as gpd\n",
    "from shapely.geometry import Point, LineString\n",
    "import folium\n",
    "\n",
    "from IPython.display import clear_output\n",
    "\n",
    "import warnings\n",
    "warnings.filterwarnings(\"ignore\")"
   ]
  },
  {
   "cell_type": "markdown",
   "metadata": {},
   "source": [
    "# 1. Access most recent LL84 data with sodapy\n",
    "\n",
    "Connect to the [Socrata API client (sodapy)](https://pypi.org/project/sodapy/0.1.4/) with an unauthenticated account and acess *[\"Energy and Water Data Disclosure for Local Law 84 2021 (Data for Calendar Year 2020)\"](https://data.cityofnewyork.us/Environment/Energy-and-Water-Data-Disclosure-for-Local-Law-84-/usc3-8zwd)* dataset for further analysis."
   ]
  },
  {
   "cell_type": "code",
   "execution_count": 2,
   "metadata": {},
   "outputs": [
    {
     "name": "stderr",
     "output_type": "stream",
     "text": [
      "WARNING:root:Requests made without an app_token will be subject to strict throttling limits.\n"
     ]
    }
   ],
   "source": [
    "# setup Socrata client, in this example we use generic, unauthenticated account\n",
    "client = Socrata(\"data.cityofnewyork.us\", None)\n",
    "dataset_id = \"usc3-8zwd\"\n",
    "\n",
    "# Obtain the dataset as JSON from API by sodapy.\n",
    "data = client.get(dataset_id, limit=30000) # from data description we know the data has 28.1K rows\n",
    "# data = client.get(dataset_id, limit=30000, select=\"property_id, nyc_borough_block_and_lot_bbl\") # select specific columns only\n",
    "\n",
    "# Convert results to pandas DataFrame\n",
    "ll84_df = pd.DataFrame.from_records(data)"
   ]
  },
  {
   "cell_type": "code",
   "execution_count": 82,
   "metadata": {},
   "outputs": [],
   "source": [
    "ll84_df = pd.DataFrame.from_records(data)"
   ]
  },
  {
   "cell_type": "code",
   "execution_count": 83,
   "metadata": {},
   "outputs": [
    {
     "data": {
      "text/html": [
       "<div>\n",
       "<style scoped>\n",
       "    .dataframe tbody tr th:only-of-type {\n",
       "        vertical-align: middle;\n",
       "    }\n",
       "\n",
       "    .dataframe tbody tr th {\n",
       "        vertical-align: top;\n",
       "    }\n",
       "\n",
       "    .dataframe thead th {\n",
       "        text-align: right;\n",
       "    }\n",
       "</style>\n",
       "<table border=\"1\" class=\"dataframe\">\n",
       "  <thead>\n",
       "    <tr style=\"text-align: right;\">\n",
       "      <th></th>\n",
       "      <th>property_id</th>\n",
       "      <th>property_name</th>\n",
       "      <th>parent_property_id</th>\n",
       "      <th>parent_property_name</th>\n",
       "      <th>year_ending</th>\n",
       "      <th>nyc_borough_block_and_lot_bbl</th>\n",
       "      <th>nyc_building_identification_number_bin</th>\n",
       "      <th>address_1</th>\n",
       "      <th>city</th>\n",
       "      <th>postcode</th>\n",
       "      <th>...</th>\n",
       "      <th>number_of_active_it_meters</th>\n",
       "      <th>generation_date</th>\n",
       "      <th>release_date</th>\n",
       "      <th>borough</th>\n",
       "      <th>community_board</th>\n",
       "      <th>council_district</th>\n",
       "      <th>census_tract</th>\n",
       "      <th>nta</th>\n",
       "      <th>longitude</th>\n",
       "      <th>latitude</th>\n",
       "    </tr>\n",
       "  </thead>\n",
       "  <tbody>\n",
       "    <tr>\n",
       "      <th>0</th>\n",
       "      <td>7365</td>\n",
       "      <td>1155</td>\n",
       "      <td>Not Applicable: Standalone Property</td>\n",
       "      <td>Not Applicable: Standalone Property</td>\n",
       "      <td>2020-12-31T00:00:00.000</td>\n",
       "      <td>1009970029</td>\n",
       "      <td>1022631</td>\n",
       "      <td>1155  Avenue  of  the  Americas</td>\n",
       "      <td>Manhattan</td>\n",
       "      <td>10036</td>\n",
       "      <td>...</td>\n",
       "      <td>0</td>\n",
       "      <td>2021-05-20T14:43:12.000</td>\n",
       "      <td>2021-05-20T14:44:16.000</td>\n",
       "      <td>MANHATTAN</td>\n",
       "      <td>105</td>\n",
       "      <td>4</td>\n",
       "      <td>119</td>\n",
       "      <td>Midtown-Midtown South</td>\n",
       "      <td>-73.982826</td>\n",
       "      <td>40.756631</td>\n",
       "    </tr>\n",
       "    <tr>\n",
       "      <th>1</th>\n",
       "      <td>8139</td>\n",
       "      <td>200</td>\n",
       "      <td>Not Applicable: Standalone Property</td>\n",
       "      <td>Not Applicable: Standalone Property</td>\n",
       "      <td>2020-12-31T00:00:00.000</td>\n",
       "      <td>1013150001</td>\n",
       "      <td>1037545</td>\n",
       "      <td>200  East  42nd  St.</td>\n",
       "      <td>Manhattan</td>\n",
       "      <td>10017</td>\n",
       "      <td>...</td>\n",
       "      <td>0</td>\n",
       "      <td>2021-05-20T14:43:12.000</td>\n",
       "      <td>2021-05-20T14:44:16.000</td>\n",
       "      <td>MANHATTAN</td>\n",
       "      <td>106</td>\n",
       "      <td>4</td>\n",
       "      <td>88</td>\n",
       "      <td>Turtle Bay-East Midtown</td>\n",
       "      <td>-73.974306</td>\n",
       "      <td>40.750698</td>\n",
       "    </tr>\n",
       "    <tr>\n",
       "      <th>2</th>\n",
       "      <td>8604</td>\n",
       "      <td>114</td>\n",
       "      <td>Not Applicable: Standalone Property</td>\n",
       "      <td>Not Applicable: Standalone Property</td>\n",
       "      <td>2020-12-31T00:00:00.000</td>\n",
       "      <td>1009990019</td>\n",
       "      <td>1022667</td>\n",
       "      <td>114  West  47th  st</td>\n",
       "      <td>Manhattan</td>\n",
       "      <td>10036</td>\n",
       "      <td>...</td>\n",
       "      <td>0</td>\n",
       "      <td>2021-05-21T16:10:56.000</td>\n",
       "      <td>2021-05-21T16:13:00.000</td>\n",
       "      <td>MANHATTAN</td>\n",
       "      <td>105</td>\n",
       "      <td>4</td>\n",
       "      <td>125</td>\n",
       "      <td>Midtown-Midtown South</td>\n",
       "      <td>-73.982504</td>\n",
       "      <td>40.75831</td>\n",
       "    </tr>\n",
       "    <tr>\n",
       "      <th>3</th>\n",
       "      <td>8841</td>\n",
       "      <td>733</td>\n",
       "      <td>Not Applicable: Standalone Property</td>\n",
       "      <td>Not Applicable: Standalone Property</td>\n",
       "      <td>2020-12-31T00:00:00.000</td>\n",
       "      <td>1013190047</td>\n",
       "      <td>1037596</td>\n",
       "      <td>733  Third  Avenue</td>\n",
       "      <td>Manhattan</td>\n",
       "      <td>10017</td>\n",
       "      <td>...</td>\n",
       "      <td>0</td>\n",
       "      <td>2021-05-20T14:43:13.000</td>\n",
       "      <td>2021-05-20T14:44:16.000</td>\n",
       "      <td>MANHATTAN</td>\n",
       "      <td>106</td>\n",
       "      <td>4</td>\n",
       "      <td>90</td>\n",
       "      <td>Turtle Bay-East Midtown</td>\n",
       "      <td>-73.972753</td>\n",
       "      <td>40.753074</td>\n",
       "    </tr>\n",
       "    <tr>\n",
       "      <th>4</th>\n",
       "      <td>11809</td>\n",
       "      <td>Conde Nast Building</td>\n",
       "      <td>Not Applicable: Standalone Property</td>\n",
       "      <td>Not Applicable: Standalone Property</td>\n",
       "      <td>2020-12-31T00:00:00.000</td>\n",
       "      <td>1009950005</td>\n",
       "      <td>1085682</td>\n",
       "      <td>4 Times Square</td>\n",
       "      <td>Manhattan</td>\n",
       "      <td>10036</td>\n",
       "      <td>...</td>\n",
       "      <td>0</td>\n",
       "      <td>2021-05-10T18:30:37.000</td>\n",
       "      <td>2021-05-10T18:34:54.000</td>\n",
       "      <td>MANHATTAN</td>\n",
       "      <td>105</td>\n",
       "      <td>4</td>\n",
       "      <td>119</td>\n",
       "      <td>Midtown-Midtown South</td>\n",
       "      <td>-73.986244</td>\n",
       "      <td>40.756181</td>\n",
       "    </tr>\n",
       "  </tbody>\n",
       "</table>\n",
       "<p>5 rows × 250 columns</p>\n",
       "</div>"
      ],
      "text/plain": [
       "  property_id        property_name                   parent_property_id  \\\n",
       "0        7365                 1155  Not Applicable: Standalone Property   \n",
       "1        8139                  200  Not Applicable: Standalone Property   \n",
       "2        8604                  114  Not Applicable: Standalone Property   \n",
       "3        8841                  733  Not Applicable: Standalone Property   \n",
       "4       11809  Conde Nast Building  Not Applicable: Standalone Property   \n",
       "\n",
       "                  parent_property_name              year_ending  \\\n",
       "0  Not Applicable: Standalone Property  2020-12-31T00:00:00.000   \n",
       "1  Not Applicable: Standalone Property  2020-12-31T00:00:00.000   \n",
       "2  Not Applicable: Standalone Property  2020-12-31T00:00:00.000   \n",
       "3  Not Applicable: Standalone Property  2020-12-31T00:00:00.000   \n",
       "4  Not Applicable: Standalone Property  2020-12-31T00:00:00.000   \n",
       "\n",
       "  nyc_borough_block_and_lot_bbl nyc_building_identification_number_bin  \\\n",
       "0                    1009970029                                1022631   \n",
       "1                    1013150001                                1037545   \n",
       "2                    1009990019                                1022667   \n",
       "3                    1013190047                                1037596   \n",
       "4                    1009950005                                1085682   \n",
       "\n",
       "                         address_1       city postcode  ...  \\\n",
       "0  1155  Avenue  of  the  Americas  Manhattan    10036  ...   \n",
       "1             200  East  42nd  St.  Manhattan    10017  ...   \n",
       "2              114  West  47th  st  Manhattan    10036  ...   \n",
       "3               733  Third  Avenue  Manhattan    10017  ...   \n",
       "4                   4 Times Square  Manhattan    10036  ...   \n",
       "\n",
       "  number_of_active_it_meters          generation_date  \\\n",
       "0                          0  2021-05-20T14:43:12.000   \n",
       "1                          0  2021-05-20T14:43:12.000   \n",
       "2                          0  2021-05-21T16:10:56.000   \n",
       "3                          0  2021-05-20T14:43:13.000   \n",
       "4                          0  2021-05-10T18:30:37.000   \n",
       "\n",
       "              release_date    borough community_board council_district  \\\n",
       "0  2021-05-20T14:44:16.000  MANHATTAN             105                4   \n",
       "1  2021-05-20T14:44:16.000  MANHATTAN             106                4   \n",
       "2  2021-05-21T16:13:00.000  MANHATTAN             105                4   \n",
       "3  2021-05-20T14:44:16.000  MANHATTAN             106                4   \n",
       "4  2021-05-10T18:34:54.000  MANHATTAN             105                4   \n",
       "\n",
       "  census_tract                      nta   longitude   latitude  \n",
       "0          119    Midtown-Midtown South  -73.982826  40.756631  \n",
       "1           88  Turtle Bay-East Midtown  -73.974306  40.750698  \n",
       "2          125    Midtown-Midtown South  -73.982504   40.75831  \n",
       "3           90  Turtle Bay-East Midtown  -73.972753  40.753074  \n",
       "4          119    Midtown-Midtown South  -73.986244  40.756181  \n",
       "\n",
       "[5 rows x 250 columns]"
      ]
     },
     "execution_count": 83,
     "metadata": {},
     "output_type": "execute_result"
    }
   ],
   "source": [
    "ll84_df.head()"
   ]
  },
  {
   "cell_type": "code",
   "execution_count": 84,
   "metadata": {},
   "outputs": [
    {
     "name": "stdout",
     "output_type": "stream",
     "text": [
      "# of rows: 28,067\n",
      "# of colums: 250\n",
      "memory usage: 53.53 MB\n"
     ]
    }
   ],
   "source": [
    "# evaluate dataframe\n",
    "print(f'# of rows: {len(ll84_df):,}')\n",
    "print(f'# of colums: {ll84_df.shape[1]:,}')\n",
    "print(f'memory usage: {round(ll84_df.memory_usage().sum()/(1024.0 * 1024.0), 2)} MB')"
   ]
  },
  {
   "cell_type": "markdown",
   "metadata": {},
   "source": [
    "# 2. Clean dataset\n",
    "\n",
    "Because the data is of a self-reporting nature, it is prone to contain various types of errors and outliers. They can take form of simple typos, incorrect units, misunderstood values, miscalculations, misalignemnts, omissions, duplications etc. In order to ensure data quality, we need to undertake several steps of pre-processing and cleaning the data, depending on the analytical task.\n",
    "\n",
    "Example cleaning steps proposed:\n",
    "- Remove duplicated entries and keep the most recent report only;\n",
    "- Replace 'Not Available' string value with NAN\n",
    "- Convert numerical columns to numerical types\n",
    "- Remove the outliers from selected columns, eg.: Energy Use Intensity"
   ]
  },
  {
   "cell_type": "code",
   "execution_count": 85,
   "metadata": {},
   "outputs": [],
   "source": [
    "# Dictionary containing columns of interest groupped by the information type\n",
    "columns_lists = {\n",
    "    'identification':[\n",
    "        'property_id','property_name',\n",
    "        'nyc_borough_block_and_lot_bbl',\n",
    "        'nyc_building_identification_number_bin',\n",
    "        'address_1',\n",
    "        'city',\n",
    "        'postcode',\n",
    "        'longitude',\n",
    "        'latitude'\n",
    "    ],\n",
    "    'property_info':[\n",
    "        'primary_property_type_self_selected',\n",
    "        'year_built',\n",
    "        'property_gfa_self_reported_ft',\n",
    "        'number_of_buildings',\n",
    "        'occupancy',\n",
    "    ],\n",
    "    'energy_performance':[\n",
    "        'energy_star_score',\n",
    "        'site_eui_kbtu_ft',\n",
    "        'weather_normalized_site_eui_kbtu_ft',\n",
    "        'site_energy_use_kbtu',\n",
    "        'weather_normalized_site_energy_use_kbtu',\n",
    "        'source_eui_kbtu_ft',\n",
    "        'weather_normalized_source_eui_kbtu_ft',\n",
    "        'source_energy_use_kbtu',\n",
    "        'weather_normalized_source_energy_use_kbtu',\n",
    "        'total_ghg_emissions_metric_tons_co2e',\n",
    "        'total_ghg_emissions_intensity_kgco2e_ft',\n",
    "    ],\n",
    "    'fuel_mix':[\n",
    "        'fuel_oil_1_use_kbtu',\n",
    "        'fuel_oil_2_use_kbtu',\n",
    "        'fuel_oil_4_use_kbtu',\n",
    "        'fuel_oil_5_6_use_kbtu',\n",
    "        'diesel_2_use_kbtu',\n",
    "        'propane_use_kbtu',\n",
    "        'district_steam_use_kbtu',\n",
    "        'natural_gas_use_kbtu',\n",
    "        'electricity_use_grid_purchase_kbtu',\n",
    "        'electricity_use_generated_from_onsite_renewable_systems_and_used_onsite_kbtu',\n",
    "    ],\n",
    "    'water_consumption':[\n",
    "        'indoor_water_use_all_water_sources_kgal',\n",
    "        'outdoor_water_use_all_water_sources_kgal',\n",
    "        'district_hot_water_use_kbtu',\n",
    "        'district_chilled_water_use_kbtu',\n",
    "    ]  \n",
    "}"
   ]
  },
  {
   "cell_type": "markdown",
   "metadata": {},
   "source": [
    "### Removing duplicates"
   ]
  },
  {
   "cell_type": "code",
   "execution_count": 86,
   "metadata": {},
   "outputs": [],
   "source": [
    "# convert report generation date to datetime object\n",
    "ll84_df['generation_date'] = pd.to_datetime(ll84_df['generation_date'])\n",
    "\n",
    "# sort entries by generation date\n",
    "ll84_df.sort_values(by='generation_date', ascending=True, inplace=True)\n",
    "\n",
    "# remove entries with duplicated property ID information and keep only the most recent record\n",
    "ll84_df.drop_duplicates(subset='property_id', keep='first', inplace=True)\n",
    "\n",
    "# reset index after sorting\n",
    "ll84_df.reset_index(drop=True, inplace=True)"
   ]
  },
  {
   "cell_type": "markdown",
   "metadata": {},
   "source": [
    "### Clean Borough-Block-Lot (BBL) identifier"
   ]
  },
  {
   "cell_type": "code",
   "execution_count": 87,
   "metadata": {},
   "outputs": [],
   "source": [
    "# clean BBL information\n",
    "ll84_df['clean_bbl'] = ll84_df['nyc_borough_block_and_lot_bbl'] \\\n",
    ".apply(lambda x: str(x).replace('-', '')) \\\n",
    ".apply(lambda x: str(x).replace(' ', '')) \\\n",
    ".apply(lambda x: str(x).replace('/', '')) \\\n",
    ".apply(lambda x: x if len(x)==10 else x.split(';')[0])\\\n",
    ".apply(lambda x: x if len(x)==10 else x.split(',')[0])\n",
    "\n",
    "ll84_df['clean_bbl'] = pd.to_numeric(ll84_df['clean_bbl'], errors='coerce')"
   ]
  },
  {
   "cell_type": "markdown",
   "metadata": {},
   "source": [
    "### Replace textual 'Not Available' string value numerical NAN values"
   ]
  },
  {
   "cell_type": "code",
   "execution_count": 88,
   "metadata": {},
   "outputs": [],
   "source": [
    "# Replace 'Not Available' string value with NAN\n",
    "ll84_df = ll84_df.replace('Not Available', np.nan)"
   ]
  },
  {
   "cell_type": "markdown",
   "metadata": {},
   "source": [
    "### Convert numbers to numerical values"
   ]
  },
  {
   "cell_type": "code",
   "execution_count": 89,
   "metadata": {},
   "outputs": [],
   "source": [
    "# generate list of numerical columns\n",
    "num_cols = columns_lists['property_info'] \\\n",
    "+ columns_lists['energy_performance'] \\\n",
    "+ columns_lists['fuel_mix'] \\\n",
    "+ columns_lists['water_consumption'] \\\n",
    "+ ['longitude', 'latitude']\n",
    "    \n",
    "num_cols.remove('primary_property_type_self_selected')\n",
    "\n",
    "# convert series of objects to numerical\n",
    "for c in num_cols:\n",
    "    ll84_df[c] = pd.to_numeric(ll84_df[c], errors='coerce')"
   ]
  },
  {
   "cell_type": "markdown",
   "metadata": {},
   "source": [
    "### Example of removing outliers in Source Energy Use Intensity (source EUI) column\n",
    "\n",
    "EUI is one of the most important features in the dataset as it provides information about overal performance of the building. It is total energy consumed by building divided by it's gross floor area. There are several EUI columns:\n",
    "- Site EUI: evaluates total energy consumed at the property level\n",
    "- Source EUI: additionally incorporates energy required to produce and deliver energy to the property\n",
    "- Weather Normalized Site/Source EUI: EUI adjusted by weather information in the form of Heating and Cooling Degree Days number"
   ]
  },
  {
   "cell_type": "code",
   "execution_count": 90,
   "metadata": {},
   "outputs": [
    {
     "data": {
      "text/plain": [
       "count     27049.00\n",
       "mean        137.82\n",
       "std        1122.01\n",
       "min           0.00\n",
       "25%          88.80\n",
       "50%         114.30\n",
       "75%         145.50\n",
       "max      183038.40\n",
       "Name: source_eui_kbtu_ft, dtype: float64"
      ]
     },
     "execution_count": 90,
     "metadata": {},
     "output_type": "execute_result"
    }
   ],
   "source": [
    "ll84_df['source_eui_kbtu_ft'].describe().round(2)"
   ]
  },
  {
   "cell_type": "code",
   "execution_count": 91,
   "metadata": {},
   "outputs": [
    {
     "data": {
      "text/plain": [
       "Text(0.5, 0, 'EUI [kbtu/ft$^2$]')"
      ]
     },
     "execution_count": 91,
     "metadata": {},
     "output_type": "execute_result"
    },
    {
     "data": {
      "image/png": "[encoded data removed]",
      "text/plain": [
       "<Figure size 1080x216 with 3 Axes>"
      ]
     },
     "metadata": {},
     "output_type": "display_data"
    }
   ],
   "source": [
    "fig, ax = plt.subplots(1,3, figsize=(15,3))\n",
    "\n",
    "# Plot the distribution of raw EUI values\n",
    "ll84_df['source_eui_kbtu_ft'].hist(bins=100, ax=ax[0])\n",
    "ax[0].set_title('Raw source EUI values')\n",
    "ax[0].set_ylabel('counts')\n",
    "ax[0].set_xlabel('EUI [kbtu/ft$^2$]')\n",
    "\n",
    "# Log-transform source EUI values to obtain normal distribution\n",
    "log_transformed = np.log(ll84_df['source_eui_kbtu_ft'])\n",
    "log_transformed.replace([-np.inf, np.inf], np.nan).dropna().hist(bins=100, ax=ax[1])\n",
    "ax[1].set_title('Log-transformed source EUI values')\n",
    "ax[1].set_ylabel('counts')\n",
    "ax[1].set_xlabel('log(EUI [kbtu/ft$^2$])')\n",
    "\n",
    "# Calculate mean and std values\n",
    "mean = np.mean(log_transformed.replace([-np.inf, np.inf], np.nan).dropna())\n",
    "std = np.std(log_transformed.replace([-np.inf, np.inf], np.nan).dropna())\n",
    "\n",
    "# Remove outliers +/- 3 std away from the mean of log-transformed source EUI values\n",
    "ll84_df['source_eui_kbtu_ft'][(log_transformed<mean+(3*std)) & (log_transformed>mean-(3*std))].replace([-np.inf, np.inf], np.nan).dropna().hist(bins=100, ax=ax[2])\n",
    "ax[2].set_title('Source EUI values without outliers')\n",
    "ax[2].set_ylabel('counts')\n",
    "ax[2].set_xlabel('EUI [kbtu/ft$^2$]')"
   ]
  },
  {
   "cell_type": "code",
   "execution_count": 92,
   "metadata": {},
   "outputs": [],
   "source": [
    "# Remove outliers from the data frame\n",
    "ll84_df = ll84_df[(log_transformed<mean+(3*std)) & (log_transformed>mean-(3*std))]"
   ]
  },
  {
   "cell_type": "code",
   "execution_count": 93,
   "metadata": {},
   "outputs": [
    {
     "name": "stdout",
     "output_type": "stream",
     "text": [
      "# of rows: 26,514\n",
      "# of colums: 251\n",
      "memory usage: 50.98 MB\n"
     ]
    }
   ],
   "source": [
    "# evaluate dataframe after cleaning\n",
    "print(f'# of rows: {len(ll84_df):,}')\n",
    "print(f'# of colums: {ll84_df.shape[1]:,}')\n",
    "print(f'memory usage: {round(ll84_df.memory_usage().sum()/(1024.0 * 1024.0), 2)} MB')"
   ]
  },
  {
   "cell_type": "markdown",
   "metadata": {},
   "source": [
    "# 3. Explore LL84 building stock"
   ]
  },
  {
   "cell_type": "code",
   "execution_count": 94,
   "metadata": {},
   "outputs": [],
   "source": [
    "# create temporary dataframe with proprty information\n",
    "temp = ll84_df[columns_lists['identification']+columns_lists['property_info']]"
   ]
  },
  {
   "cell_type": "code",
   "execution_count": 95,
   "metadata": {},
   "outputs": [
    {
     "name": "stdout",
     "output_type": "stream",
     "text": [
      "Number of property types: 74\n",
      "\n",
      "Top 5 most common property type:\n"
     ]
    },
    {
     "data": {
      "text/plain": [
       "Multifamily Housing           18113\n",
       "Office                         2206\n",
       "K-12 School                    1568\n",
       "Hotel                           527\n",
       "Non-Refrigerated Warehouse      383\n",
       "Name: primary_property_type_self_selected, dtype: int64"
      ]
     },
     "execution_count": 95,
     "metadata": {},
     "output_type": "execute_result"
    }
   ],
   "source": [
    "print(f'Number of property types: {temp[\"primary_property_type_self_selected\"].nunique()}')\n",
    "print()\n",
    "print('Top 5 most common property type:')\n",
    "temp[\"primary_property_type_self_selected\"].value_counts().iloc[:5]"
   ]
  },
  {
   "cell_type": "code",
   "execution_count": 96,
   "metadata": {},
   "outputs": [
    {
     "name": "stdout",
     "output_type": "stream",
     "text": [
      "Total Gross Floor Area [sqft]: 3194470519.0\n",
      "\n",
      "Top 5 most common property type:\n"
     ]
    },
    {
     "data": {
      "text/plain": [
       "primary_property_type_self_selected\n",
       "Multifamily Housing    1873954676.00\n",
       "Office                  530246247.00\n",
       "K-12 School             181864806.00\n",
       "Hotel                    77422564.00\n",
       "College/University       66192064.00\n",
       "Name: property_gfa_self_reported_ft, dtype: object"
      ]
     },
     "execution_count": 96,
     "metadata": {},
     "output_type": "execute_result"
    }
   ],
   "source": [
    "print(f'Total Gross Floor Area [sqft]: {temp[\"property_gfa_self_reported_ft\"].sum()}')\n",
    "print()\n",
    "print('Top 5 most common property type:')\n",
    "temp.groupby([\"primary_property_type_self_selected\"])[\"property_gfa_self_reported_ft\"].sum().sort_values(ascending=False).round(2).iloc[:5].apply(lambda x: '%.2f' % x)"
   ]
  },
  {
   "cell_type": "code",
   "execution_count": 97,
   "metadata": {},
   "outputs": [
    {
     "data": {
      "image/png": "[encoded data removed]",
      "text/plain": [
       "<Waffle size 720x360 with 2 Axes>"
      ]
     },
     "metadata": {},
     "output_type": "display_data"
    }
   ],
   "source": [
    "# Prepare data for plotting\n",
    "\n",
    "# top 5 property types for number of buildings\n",
    "plot_df_1 = pd.DataFrame(temp[\"primary_property_type_self_selected\"].value_counts().iloc[:5])\\\n",
    "    .rename(columns={'primary_property_type_self_selected':'Number of properties'})\n",
    "plot_df_1.index.name = 'Property type'\n",
    "\n",
    "types_list = plot_df_1.index.tolist()\n",
    "\n",
    "total_count = len(temp)\n",
    "others_count = total_count - plot_df_1['Number of properties'].sum()\n",
    "\n",
    "plot_df_1 = plot_df_1.append(pd.Series(index=['Number of properties'], data=[others_count], name='Other'))\n",
    "\n",
    "# top 5 property types for gross floor area\n",
    "plot_df_2 = pd.DataFrame(temp.groupby([\"primary_property_type_self_selected\"])[\"property_gfa_self_reported_ft\"]\\\n",
    "                         .sum().sort_values(ascending=False).loc[types_list]).rename(columns={'property_gfa_self_reported_ft':'Gross Floor Area [sqrft]'})\n",
    "plot_df_2.index.name = 'Property type'\n",
    "\n",
    "total_gfa = temp[\"property_gfa_self_reported_ft\"].sum()\n",
    "others_gfa = total_gfa - plot_df_2['Gross Floor Area [sqrft]'].sum()\n",
    "\n",
    "plot_df_2 = plot_df_2.append(pd.Series(index=['Gross Floor Area [sqrft]'], data=[others_gfa], name='Other'))\n",
    "\n",
    "# combine the two data frames\n",
    "plot_df = plot_df_1.join(plot_df_2)\n",
    "\n",
    "# calculate ratios\n",
    "plot_df['Number of properties ratio'] = plot_df['Number of properties'] / plot_df['Number of properties'].sum()\n",
    "plot_df['Gross Floor Area [sqrft] ratio'] = plot_df['Gross Floor Area [sqrft]'] / plot_df['Gross Floor Area [sqrft]'].sum()\n",
    "\n",
    "# Plot data as a waffle plot for comparison\n",
    "fig = plt.figure(\n",
    "    FigureClass=Waffle,\n",
    "    plots={\n",
    "        '211': {\n",
    "            'values': plot_df['Number of properties ratio'] * 100,\n",
    "            'labels': [\"{0} ({1})\".format(n, v) for n, v in plot_df['Number of properties'].items()],\n",
    "            'legend': {'loc': 'upper left', 'bbox_to_anchor': (1.05, 1), 'fontsize': 8},\n",
    "            'title': {'label': 'Property Type Ratio', 'loc': 'left'}\n",
    "        },\n",
    "        '212': {\n",
    "            'values': plot_df['Gross Floor Area [sqrft] ratio'] * 100,\n",
    "            'labels': [\"{0} ({1})\".format(n, v) for n, v in plot_df['Gross Floor Area [sqrft]'].items()],\n",
    "            'legend': {'loc': 'upper left', 'bbox_to_anchor': (1.05, 1), 'fontsize': 8},\n",
    "            'title': {'label': 'Gross Floor Area by Property Type', 'loc': 'left'}\n",
    "        },\n",
    "    },\n",
    "    rows=5,\n",
    "    colors=tuple([cm.tab10(i) for i in range(5)]+[\"#999999\"]), # set colors\n",
    "    figsize=(10, 5)  # specify figure size\n",
    ")"
   ]
  },
  {
   "cell_type": "markdown",
   "metadata": {},
   "source": [
    "# Build interactive map showing location and energy performance of LL84 properties\n",
    "\n",
    "- Download MapPluto data from the [Bytes of the Big Apple](https://www1.nyc.gov/site/planning/data-maps/open-data/dwn-pluto-mappluto.page)\n",
    "- Msubset=e with LL84 using Borough-Block-Lot (BBL) identifier\n",
    "- Simplify geometries to speed up rendering \n",
    "- Use Folium plugin to create interactive map of LL84 properties"
   ]
  },
  {
   "cell_type": "code",
   "execution_count": 14,
   "metadata": {},
   "outputs": [
    {
     "name": "stdout",
     "output_type": "stream",
     "text": [
      "CPU times: user 2min 27s, sys: 4min 30s, total: 6min 57s\n",
      "Wall time: 13min 35s\n"
     ]
    },
    {
     "data": {
      "text/html": [
       "<div>\n",
       "<style scoped>\n",
       "    .dataframe tbody tr th:only-of-type {\n",
       "        vertical-align: middle;\n",
       "    }\n",
       "\n",
       "    .dataframe tbody tr th {\n",
       "        vertical-align: top;\n",
       "    }\n",
       "\n",
       "    .dataframe thead th {\n",
       "        text-align: right;\n",
       "    }\n",
       "</style>\n",
       "<table border=\"1\" class=\"dataframe\">\n",
       "  <thead>\n",
       "    <tr style=\"text-align: right;\">\n",
       "      <th></th>\n",
       "      <th>Borough</th>\n",
       "      <th>Block</th>\n",
       "      <th>Lot</th>\n",
       "      <th>CD</th>\n",
       "      <th>BCT2020</th>\n",
       "      <th>BCTCB2020</th>\n",
       "      <th>CT2010</th>\n",
       "      <th>CB2010</th>\n",
       "      <th>SchoolDist</th>\n",
       "      <th>Council</th>\n",
       "      <th>...</th>\n",
       "      <th>FIRM07_FLA</th>\n",
       "      <th>PFIRM15_FL</th>\n",
       "      <th>Version</th>\n",
       "      <th>DCPEdited</th>\n",
       "      <th>Latitude</th>\n",
       "      <th>Longitude</th>\n",
       "      <th>Notes</th>\n",
       "      <th>Shape_Leng</th>\n",
       "      <th>Shape_Area</th>\n",
       "      <th>geometry</th>\n",
       "    </tr>\n",
       "  </thead>\n",
       "  <tbody>\n",
       "    <tr>\n",
       "      <th>0</th>\n",
       "      <td>MN</td>\n",
       "      <td>6</td>\n",
       "      <td>1</td>\n",
       "      <td>101</td>\n",
       "      <td>1000900</td>\n",
       "      <td>10009001014</td>\n",
       "      <td>9</td>\n",
       "      <td>1017</td>\n",
       "      <td>02</td>\n",
       "      <td>1</td>\n",
       "      <td>...</td>\n",
       "      <td>1</td>\n",
       "      <td>1</td>\n",
       "      <td>21v4</td>\n",
       "      <td>t</td>\n",
       "      <td>40.702609</td>\n",
       "      <td>-74.009900</td>\n",
       "      <td>None</td>\n",
       "      <td>0.0</td>\n",
       "      <td>36256.592536</td>\n",
       "      <td>POLYGON ((981398.159 195460.869, 981413.330 19...</td>\n",
       "    </tr>\n",
       "    <tr>\n",
       "      <th>1</th>\n",
       "      <td>MN</td>\n",
       "      <td>2</td>\n",
       "      <td>1</td>\n",
       "      <td>101</td>\n",
       "      <td>1000900</td>\n",
       "      <td>10009001022</td>\n",
       "      <td>9</td>\n",
       "      <td>1025</td>\n",
       "      <td>02</td>\n",
       "      <td>1</td>\n",
       "      <td>...</td>\n",
       "      <td>1</td>\n",
       "      <td>1</td>\n",
       "      <td>21v4</td>\n",
       "      <td>t</td>\n",
       "      <td>40.700369</td>\n",
       "      <td>-74.012911</td>\n",
       "      <td>None</td>\n",
       "      <td>0.0</td>\n",
       "      <td>100824.967451</td>\n",
       "      <td>POLYGON ((980639.785 194217.691, 980609.551 19...</td>\n",
       "    </tr>\n",
       "    <tr>\n",
       "      <th>2</th>\n",
       "      <td>MN</td>\n",
       "      <td>2</td>\n",
       "      <td>23</td>\n",
       "      <td>101</td>\n",
       "      <td>1000900</td>\n",
       "      <td>10009001022</td>\n",
       "      <td>9</td>\n",
       "      <td>1025</td>\n",
       "      <td>02</td>\n",
       "      <td>1</td>\n",
       "      <td>...</td>\n",
       "      <td>1</td>\n",
       "      <td>1</td>\n",
       "      <td>21v4</td>\n",
       "      <td>t</td>\n",
       "      <td>40.701171</td>\n",
       "      <td>-74.009243</td>\n",
       "      <td>None</td>\n",
       "      <td>0.0</td>\n",
       "      <td>96902.368779</td>\n",
       "      <td>MULTIPOLYGON (((981182.221 194851.167, 981181....</td>\n",
       "    </tr>\n",
       "    <tr>\n",
       "      <th>3</th>\n",
       "      <td>MN</td>\n",
       "      <td>3</td>\n",
       "      <td>1</td>\n",
       "      <td>101</td>\n",
       "      <td>1001300</td>\n",
       "      <td>10013002002</td>\n",
       "      <td>13</td>\n",
       "      <td>2005</td>\n",
       "      <td>02</td>\n",
       "      <td>1</td>\n",
       "      <td>...</td>\n",
       "      <td>1</td>\n",
       "      <td>1</td>\n",
       "      <td>21v4</td>\n",
       "      <td>None</td>\n",
       "      <td>40.702806</td>\n",
       "      <td>-74.015631</td>\n",
       "      <td>None</td>\n",
       "      <td>0.0</td>\n",
       "      <td>921410.335268</td>\n",
       "      <td>MULTIPOLYGON (((980152.176 194762.899, 980089....</td>\n",
       "    </tr>\n",
       "    <tr>\n",
       "      <th>4</th>\n",
       "      <td>MN</td>\n",
       "      <td>3</td>\n",
       "      <td>4</td>\n",
       "      <td>101</td>\n",
       "      <td>1031900</td>\n",
       "      <td>None</td>\n",
       "      <td>319</td>\n",
       "      <td>None</td>\n",
       "      <td>02</td>\n",
       "      <td>1</td>\n",
       "      <td>...</td>\n",
       "      <td>1</td>\n",
       "      <td>1</td>\n",
       "      <td>21v4</td>\n",
       "      <td>None</td>\n",
       "      <td>40.701255</td>\n",
       "      <td>-74.013939</td>\n",
       "      <td>None</td>\n",
       "      <td>0.0</td>\n",
       "      <td>2777.210233</td>\n",
       "      <td>POLYGON ((980403.205 194731.754, 980401.324 19...</td>\n",
       "    </tr>\n",
       "  </tbody>\n",
       "</table>\n",
       "<p>5 rows × 95 columns</p>\n",
       "</div>"
      ],
      "text/plain": [
       "  Borough  Block  Lot   CD  BCT2020    BCTCB2020 CT2010 CB2010 SchoolDist  \\\n",
       "0      MN      6    1  101  1000900  10009001014      9   1017         02   \n",
       "1      MN      2    1  101  1000900  10009001022      9   1025         02   \n",
       "2      MN      2   23  101  1000900  10009001022      9   1025         02   \n",
       "3      MN      3    1  101  1001300  10013002002     13   2005         02   \n",
       "4      MN      3    4  101  1031900         None    319   None         02   \n",
       "\n",
       "   Council  ...  FIRM07_FLA PFIRM15_FL  Version  DCPEdited   Latitude  \\\n",
       "0        1  ...           1          1     21v4          t  40.702609   \n",
       "1        1  ...           1          1     21v4          t  40.700369   \n",
       "2        1  ...           1          1     21v4          t  40.701171   \n",
       "3        1  ...           1          1     21v4       None  40.702806   \n",
       "4        1  ...           1          1     21v4       None  40.701255   \n",
       "\n",
       "   Longitude Notes Shape_Leng     Shape_Area  \\\n",
       "0 -74.009900  None        0.0   36256.592536   \n",
       "1 -74.012911  None        0.0  100824.967451   \n",
       "2 -74.009243  None        0.0   96902.368779   \n",
       "3 -74.015631  None        0.0  921410.335268   \n",
       "4 -74.013939  None        0.0    2777.210233   \n",
       "\n",
       "                                            geometry  \n",
       "0  POLYGON ((981398.159 195460.869, 981413.330 19...  \n",
       "1  POLYGON ((980639.785 194217.691, 980609.551 19...  \n",
       "2  MULTIPOLYGON (((981182.221 194851.167, 981181....  \n",
       "3  MULTIPOLYGON (((980152.176 194762.899, 980089....  \n",
       "4  POLYGON ((980403.205 194731.754, 980401.324 19...  \n",
       "\n",
       "[5 rows x 95 columns]"
      ]
     },
     "execution_count": 14,
     "metadata": {},
     "output_type": "execute_result"
    }
   ],
   "source": [
    "%%time\n",
    "pluto = gpd.read_file('./nyc_mappluto_21v4_shp/MapPLUTO.shp') # this asumes MapPluto was downloaded inside the project folder\n",
    "pluto.head()"
   ]
  },
  {
   "cell_type": "code",
   "execution_count": 98,
   "metadata": {},
   "outputs": [],
   "source": [
    "# Merge LL84 data with PLUTO\n",
    "ll84_df_gdf = pd.merge(ll84_df, pluto[['BBL', 'geometry']], how='left', left_on='clean_bbl', right_on='BBL')\n",
    "ll84_df_gdf = gpd.GeoDataFrame(data=ll84_df_gdf, geometry=ll84_df_gdf['geometry'], crs=pluto.crs)\n",
    "ll84_df_gdf.dropna(subset=['geometry'], inplace=True)\n",
    "ll84_df_gdf.geometry = ll84_df_gdf.geometry.simplify(0.01)"
   ]
  },
  {
   "cell_type": "code",
   "execution_count": null,
   "metadata": {},
   "outputs": [],
   "source": [
    "# define data to be used in the map\n",
    "map_df = ll84_df_gdf[[\"source_eui_kbtu_ft\", \"nyc_borough_block_and_lot_bbl\", \n",
    "                 \"primary_property_type_self_selected\", \"year_built\", \"property_gfa_self_reported_ft\",\n",
    "                 \"energy_star_score\", \"geometry\"]].dropna()\n",
    "\n",
    "# define map object\n",
    "m = map_df.explore(\n",
    "     width='75%', height='100%',\n",
    "     column=\"source_eui_kbtu_ft\", # specify column for choropleth\n",
    "     tooltip=[\"nyc_borough_block_and_lot_bbl\", \"primary_property_type_self_selected\", \n",
    "              \"year_built\", \"property_gfa_self_reported_ft\", \n",
    "              \"source_eui_kbtu_ft\", \"energy_star_score\"], # define tooltip\n",
    "     popup=True, # enable popup\n",
    "     tiles=\"CartoDB positron\", # specify basemap style\n",
    "     cmap=\"coolwarm\", # specify colormap\n",
    "     scheme=\"NaturalBreaks\", # define scale\n",
    "     style_kwds=dict(stroke=False) # style objects\n",
    "    )\n",
    "\n",
    "m.save(\"../image/ll84_eui_choropleth.html\")\n",
    "m # show folium object"
   ]
  },
  {
   "cell_type": "markdown",
   "metadata": {},
   "source": [
    "# References:\n",
    "\n",
    "- [SodaPy documentation](https://github.com/xmunoz/sodapy)\n",
    "- [Energy and Water Data Disclosure for Local Law 84 2021 (Data for Calendar Year 2020) record on NYC Open Data platform](https://data.cityofnewyork.us/Environment/Energy-and-Water-Data-Disclosure-for-Local-Law-84-/usc3-8zwd)\n",
    "- More on Local Law 84 and other NYC Green Initiatives can be found [here](https://www1.nyc.gov/site/sustainability/legislation/greener-greater-buildings-plan-2009.page) and [here](https://www1.nyc.gov/html/gbee/html/plan/training_ll84.shtml)\n",
    "- [SODA API documentation for LL84 data on SODA Developers portal](https://dev.socrata.com/foundry/data.cityofnewyork.us/usc3-8zwd)\n",
    "- [PyWaffle documentation](https://github.com/gyli/PyWaffle)"
   ]
  }
 ],
 "metadata": {
  "kernelspec": {
   "display_name": "geostack P3.7",
   "language": "python",
   "name": "myenv"
  },
  "language_info": {
   "codemirror_mode": {
    "name": "ipython",
    "version": 3
   },
   "file_extension": ".py",
   "mimetype": "text/x-python",
   "name": "python",
   "nbconvert_exporter": "python",
   "pygments_lexer": "ipython3",
   "version": "3.7.7"
  }
 },
 "nbformat": 4,
 "nbformat_minor": 4
}
