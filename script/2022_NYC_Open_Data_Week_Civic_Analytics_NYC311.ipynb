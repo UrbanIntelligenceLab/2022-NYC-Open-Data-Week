{
 "cells": [
  {
   "cell_type": "markdown",
   "metadata": {},
   "source": [
    "# 2022 NYC Open Data Week\n",
    "# Civic Analytics using Open Data\n",
    "\n",
    "https://www.urbanintelligencelab.org \\ https://github.com/UrbanIntelligenceLab \\ @UrbanIntelLab"
   ]
  },
  {
   "cell_type": "code",
   "execution_count": null,
   "metadata": {},
   "outputs": [],
   "source": [
    "import pandas as pd\n",
    "import numpy as np\n",
    "from urllib.parse import urlencode\n",
    "import datetime\n",
    "import matplotlib.pyplot as plt\n",
    "from matplotlib import cm\n",
    "from matplotlib.colors import ListedColormap\n",
    "%matplotlib inline\n",
    "\n",
    "import warnings\n",
    "warnings.filterwarnings(\"ignore\")"
   ]
  },
  {
   "cell_type": "markdown",
   "metadata": {},
   "source": [
    "# Access and Query 311 Data using Socrata Open API 1\n",
    "## Goal 1: Access 311 data for multiple cities without downloading\n",
    "### 1) Access NYC 311 data using Socrata API\n",
    "* You can find Socrata API endpoint on the Open Data webpage.\n",
    "![screenshot](../image/nyc_open_data_screenshot.png)"
   ]
  },
  {
   "cell_type": "code",
   "execution_count": null,
   "metadata": {},
   "outputs": [],
   "source": [
    "# Define API endpoint\n",
    "API = 'https://data.cityofnewyork.us/resource/erm2-nwe9.csv?'\n",
    "\n",
    "# Get a data header\n",
    "query = {'$select': '*',\n",
    "        }\n",
    "df = pd.read_csv(API+urlencode(query), parse_dates=['created_date'])\n",
    "print (len(df))\n",
    "df.head()"
   ]
  },
  {
   "cell_type": "markdown",
   "metadata": {},
   "source": [
    "### 2) Show header with selected columns"
   ]
  },
  {
   "cell_type": "code",
   "execution_count": null,
   "metadata": {},
   "outputs": [],
   "source": [
    "# 'created_date', 'agency', 'complaint_type', 'location_type', 'incident_zip', 'latitude', 'longitude'\n",
    "\n",
    "# Get a data header\n",
    "query = {'$select': 'created_date, agency, complaint_type, location_type, incident_zip, latitude, longitude',\n",
    "        }\n",
    "df = pd.read_csv(API+urlencode(query), parse_dates=['created_date'])\n",
    "df.head()"
   ]
  },
  {
   "cell_type": "markdown",
   "metadata": {},
   "source": [
    "### 3) Count complaint volume\n",
    "* Total number of 311 complaints since 2010\n",
    "* Yearly counts of 311 complaints\n",
    "* Montly counts of 311 complaints in 2021"
   ]
  },
  {
   "cell_type": "code",
   "execution_count": null,
   "metadata": {},
   "outputs": [],
   "source": [
    "# Total volume since 2010\n",
    "query = {'$select': 'count(*)',\n",
    "         }\n",
    "df = pd.read_csv(API+urlencode(query))\n",
    "df.head()"
   ]
  },
  {
   "cell_type": "code",
   "execution_count": null,
   "metadata": {},
   "outputs": [],
   "source": [
    "# Yearly counts\n",
    "query = {'$select': 'date_trunc_y(created_date) as year, count(*) as yearly_count',\n",
    "         '$group': 'year',\n",
    "        }\n",
    "df = pd.read_csv(API+urlencode(query), parse_dates=['year'])\n",
    "df.head()"
   ]
  },
  {
   "cell_type": "code",
   "execution_count": null,
   "metadata": {},
   "outputs": [],
   "source": [
    "# Monthly counts of 311 complaints in 2021\n",
    "query = {'$select': 'date_trunc_ym(created_date) as month, count(*) as monthly_count',\n",
    "         '$where': 'created_date between \"2021-01-01\" and \"2021-12-31\"',\n",
    "         '$group': 'month',\n",
    "        }\n",
    "df = pd.read_csv(API+urlencode(query), parse_dates=['month'])\n",
    "df.sort_values(by='month').head()"
   ]
  },
  {
   "cell_type": "markdown",
   "metadata": {},
   "source": [
    "## Goal 2: Count 311 service requests for multiple cities\n",
    "### 4) Apply to multi-city 311 data to retrieve a total number of 311 complaints since data has been collected"
   ]
  },
  {
   "cell_type": "code",
   "execution_count": null,
   "metadata": {},
   "outputs": [],
   "source": [
    "# Socrata API endpoint for each city should be collected first. Here, we use a pre-collected table for 6 cities.\n",
    "# New York, Chicago, Montgomery, San Francisco, Austin, and Baltimore\n",
    "\n",
    "city_list = pd.read_csv('../data/example_cities_socrata.csv')\n",
    "city_list[['city_state', 'Year','api_url', 'unique_column', 'date_column']].head()"
   ]
  },
  {
   "cell_type": "markdown",
   "metadata": {},
   "source": [
    "### 5) Create a summary table with total counts of complaints (overlapping period)"
   ]
  },
  {
   "cell_type": "code",
   "execution_count": null,
   "metadata": {},
   "outputs": [],
   "source": [
    "# Use for loops to count 311 complaint volumes for each city\n",
    "\n",
    "cities = []\n",
    "com_vol_ovpr = []\n",
    "\n",
    "for i in range(len(city_list)):\n",
    "    try:  \n",
    "        query = {'$select': 'count(*)',\n",
    "                 '$where': '%s between \"2021-01-01\" and \"2021-12-31\"'%(city_list['date_column'].iloc[i]),\n",
    "                }\n",
    "        df = pd.read_csv(city_list['api_url'].iloc[i]+'?'+urlencode(query))\n",
    "        com_vol_ovpr.append(df.values[0][0])\n",
    "        cities.append(city_list['city'].iloc[i])\n",
    "    \n",
    "    except:\n",
    "        pass\n",
    "print (\"Processing completed\")\n",
    "\n",
    "result = pd.DataFrame()\n",
    "result['city'] = cities\n",
    "result['com_vol_ovpr'] = com_vol_ovpr\n",
    "result['com_vol_ovpr'] = result['com_vol_ovpr'].astype(float)\n",
    "\n",
    "result"
   ]
  },
  {
   "cell_type": "markdown",
   "metadata": {},
   "source": [
    "## Goal 3: Create a plot to compare values across different cities\n",
    "### 6) Create a bar chart (descending)"
   ]
  },
  {
   "cell_type": "code",
   "execution_count": null,
   "metadata": {},
   "outputs": [],
   "source": [
    "result.index = result['city']\n",
    "\n",
    "fig = plt.figure(figsize=(4,3)) # Create matplotlib figure\n",
    "ax = fig.add_subplot(111) # Create matplotlib axes\n",
    "width = 0.4\n",
    "result.sort_values(by='com_vol_ovpr', ascending=False).com_vol_ovpr.plot(kind='bar', color='SteelBlue', ax=ax, width=width)\n",
    "ax.set_ylabel('311 Complaint Volume (total)')"
   ]
  },
  {
   "cell_type": "markdown",
   "metadata": {},
   "source": [
    "![bar_chart_multicity](../image/bar_chart_multicity.png)"
   ]
  },
  {
   "cell_type": "markdown",
   "metadata": {},
   "source": [
    "# Access and Query 311 Data using Socrata Open API 2\n",
    "## Goal 1: Access NYC 311 data and Count 2019 & 2020 citizen service requests\n",
    "### 1) Access NYC 311 and compare 2019 & 2020 (pre-pandemic vs. post-pandemic) complatint volume"
   ]
  },
  {
   "cell_type": "code",
   "execution_count": null,
   "metadata": {},
   "outputs": [],
   "source": [
    "# Total complaints March 1, 2019 ~ June 30, 2019\n",
    "query_2019 = {'$select': 'count(*) as total_count_2019',\n",
    "         '$where': 'created_date between \"2019-03-01\" and \"2019-06-30\"',\n",
    "        }\n",
    "df_2019 = pd.read_csv(API+urlencode(query_2019))\n",
    "\n",
    "# Total complaints March 1, 2020 ~ June 30, 2020 (Pandemic period)\n",
    "query_2020 = {'$select': 'count(*) as total_count_2020',\n",
    "         '$where': 'created_date between \"2020-03-01\" and \"2020-06-30\"',\n",
    "        }\n",
    "df_2020 = pd.read_csv(API+urlencode(query_2020))\n",
    "\n",
    "df = pd.concat([df_2019, df_2020], axis=1)\n",
    "df"
   ]
  },
  {
   "cell_type": "markdown",
   "metadata": {},
   "source": [
    "## Goal 2: Create plots to understand most reported complaint types\n",
    "### 2) Create a plot - top 50 complaint types (total)"
   ]
  },
  {
   "cell_type": "code",
   "execution_count": null,
   "metadata": {},
   "outputs": [],
   "source": [
    "DATE_CONDITION = 'created_date between \"2020-02-01\" and \"2020-08-10\"'\n",
    "\n",
    "# get complaint volume\n",
    "query = {'$select': 'complaint_type, date_trunc_ymd(created_date) as date, count(*)',\n",
    "         '$where': DATE_CONDITION,\n",
    "         '$group': 'complaint_type, date',\n",
    "         '$limit': 1000*1000,\n",
    "        }\n",
    "df = pd.read_csv(API+urlencode(query), parse_dates=['date'])\n",
    "df.head()"
   ]
  },
  {
   "cell_type": "code",
   "execution_count": null,
   "metadata": {},
   "outputs": [],
   "source": [
    "df = df.pivot_table(index='date', columns='complaint_type', values='count', fill_value=0)\n",
    "df.head()"
   ]
  },
  {
   "cell_type": "code",
   "execution_count": null,
   "metadata": {},
   "outputs": [],
   "source": [
    "truncated = df.sum(axis=0).sort_values(ascending=False).head(50)\n",
    "truncated[:5]"
   ]
  },
  {
   "cell_type": "code",
   "execution_count": null,
   "metadata": {},
   "outputs": [],
   "source": [
    "temp = df[truncated.index].copy().reset_index(drop=True)\n",
    "ax = temp.plot.area(stacked=True, figsize=(16,10), \n",
    "                    title='Volume of Top 50 Complaint Types (Feb 01 - Aug 10)',\n",
    "                    cmap=ListedColormap(list(cm.get_cmap('tab20').colors)*3))\n",
    "# legend\n",
    "handles, labels = ax.get_legend_handles_labels()\n",
    "ax.legend(handles[::-1], labels[::-1], \n",
    "          title='Top 50 Complaint Types\\n(Ascending order of volume)', \n",
    "          fontsize=9,\n",
    "          bbox_to_anchor=(1.03,1))\n",
    "\n",
    "# date labels\n",
    "x_indices = range(0, len(temp.index), 7)\n",
    "date_index = df[truncated.index].index\n",
    "x_labels = date_index.strftime('%h %d (%a)').tolist()\n",
    "ax.set_xticks(x_indices)\n",
    "_ = ax.set_xticklabels([x_labels[i] for i in x_indices], rotation=90)\n",
    "\n",
    "\n",
    "### annotation\n",
    "# annotate covid dates\n",
    "dates = {\n",
    "    '2020-03-20': 'Shelter In Place',\n",
    "    '2020-06-08': 'Phase 1',\n",
    "    '2020-06-22': 'Phase 2',\n",
    "    '2020-07-06': 'Phase 3',\n",
    "    '2020-07-20': 'Phase 4',\n",
    "}\n",
    "annotation = [(i, date) for i, date in enumerate(date_index.strftime('%Y-%m-%d').tolist()) \n",
    "     if date in dates]\n",
    "for annot_i, annot_text in annotation: \n",
    "    ax.axvline(annot_i, color='gold', linestyle='--')\n",
    "    ax.text(x=annot_i+.5, y=21000, s='%s\\n%s'%(dates[annot_text], \n",
    "                                               date_index[annot_i].strftime('%h %d')))\n",
    "    \n",
    "# annotate storm dates\n",
    "dates = ['2020-07-10', '2020-08-04']\n",
    "date_labels = ['Storm Fay', 'Storm Isais']\n",
    "annotation = [i for i, date in enumerate(date_index.strftime('%Y-%m-%d').tolist()) if date in dates]\n",
    "for i, date_i in enumerate(annotation): \n",
    "    ax.axvline(date_i, color='grey', linestyle='--')\n",
    "    ax.text(x=date_i+.5, y=20000, s='%s\\n%s'%(date_labels[i], \n",
    "                                               date_index[date_i].strftime('%h %d')))\n",
    "\n",
    "# annotate heat advisory dates\n",
    "dates = ['2020-07-19', '2020-07-23', '2020-07-26', '2020-08-10']\n",
    "annotation = [i for i, date in enumerate(date_index.strftime('%Y-%m-%d').tolist()) if date in dates]\n",
    "for i, date_i in enumerate(annotation): \n",
    "    ax.axvline(date_i, color='salmon', linestyle='--')"
   ]
  },
  {
   "cell_type": "markdown",
   "metadata": {},
   "source": [
    "### 3) Create a plot - top 50 complaint types (stacked proportional)"
   ]
  },
  {
   "cell_type": "code",
   "execution_count": null,
   "metadata": {},
   "outputs": [],
   "source": [
    "# Calauclate proportional values for each complaint type\n",
    "temp = df[truncated.index].copy()\n",
    "temp = temp.div(df[truncated.index].sum(axis=1), axis=0)\n",
    "temp.head()"
   ]
  },
  {
   "cell_type": "code",
   "execution_count": null,
   "metadata": {},
   "outputs": [],
   "source": [
    "ax = temp.plot.area(stacked=True, figsize=(16,10), \n",
    "                    title='% Daily Volume of Top 50 Complaint Types (Feb 01 - Aug 10)',\n",
    "                    cmap=ListedColormap(list(cm.get_cmap('tab20').colors)*3)\n",
    "                   )\n",
    "ax.set_xlabel('')\n",
    "# legend\n",
    "handles, labels = ax.get_legend_handles_labels()\n",
    "ax.legend(handles[::-1], labels[::-1], \n",
    "          title='Top 50 Complaint Types\\n(Ascending order of volume)', \n",
    "          fontsize=9,\n",
    "          bbox_to_anchor=(1,1))\n",
    "\n",
    "# date labels\n",
    "x_indices = range(0, len(temp.index), 7)\n",
    "ax.set_xticks(temp.index[x_indices])\n",
    "_ = ax.set_xticklabels([d.strftime('%h %d (%a)') for d in temp.index[x_indices]], rotation=90)\n",
    "\n",
    "### annotation\n",
    "# annotate covid dates\n",
    "dates = {\n",
    "    '2020-03-20': 'Shelter In Place',\n",
    "    '2020-06-08': 'Phase 1',\n",
    "    '2020-06-22': 'Phase 2',\n",
    "    '2020-07-06': 'Phase 3',\n",
    "    '2020-07-20': 'Phase 4',\n",
    "}\n",
    "for date in dates: \n",
    "    ax.axvline(date, color='gold', linestyle='--')\n",
    "\n",
    "# annotate storm dates\n",
    "for date in ['2020-07-10', '2020-08-04']:\n",
    "    ax.axvline(date, color='grey', linestyle='--')\n",
    "\n",
    "# annotate heat advisory dates\n",
    "for date in ['2020-07-19', '2020-07-23', '2020-07-26', '2020-08-10']:\n",
    "    ax.axvline(date, color='salmon', linestyle='--')"
   ]
  },
  {
   "cell_type": "markdown",
   "metadata": {},
   "source": [
    "## Goal 3: Understand social distancing complaints\n",
    "### 4) Count a total number of social distancing complaints "
   ]
  },
  {
   "cell_type": "code",
   "execution_count": null,
   "metadata": {},
   "outputs": [],
   "source": [
    "query = {'$select': 'count(*)',\n",
    "         '$where': 'descriptor in(\"Social Distancing\", \"Face Covering Violation\")', \n",
    "        }\n",
    "df = pd.read_csv(API+urlencode(query))\n",
    "df.head()"
   ]
  },
  {
   "cell_type": "code",
   "execution_count": null,
   "metadata": {},
   "outputs": [],
   "source": [
    "query = {'$select': 'min(created_date)',\n",
    "         '$where': 'descriptor in(\"Social Distancing\", \"Face Covering Violation\")', \n",
    "        }\n",
    "df = pd.read_csv(API+urlencode(query))\n",
    "df.head()"
   ]
  },
  {
   "cell_type": "code",
   "execution_count": null,
   "metadata": {},
   "outputs": [],
   "source": [
    "query = {'$select': 'max(created_date)',\n",
    "         '$where': 'descriptor in(\"Social Distancing\", \"Face Covering Violation\")', \n",
    "        }\n",
    "df = pd.read_csv(API+urlencode(query))\n",
    "df.head()"
   ]
  },
  {
   "cell_type": "markdown",
   "metadata": {},
   "source": [
    "### 5) Create a plot - daily social distancing complaint counts"
   ]
  },
  {
   "cell_type": "code",
   "execution_count": null,
   "metadata": {},
   "outputs": [],
   "source": [
    "# Monthly counts of 311 complaints in 2021\n",
    "query = {'$select': 'date_trunc_ymd(created_date) as date, count(*) as daily_counts',\n",
    "         '$where': 'descriptor in(\"Social Distancing\", \"Face Covering Violation\") and \\\n",
    "         created_date between \"2020-03-28\" and \"2020-08-25\"',\n",
    "         '$group': 'date',\n",
    "        }\n",
    "df = pd.read_csv(API+urlencode(query), parse_dates=['date'])\n",
    "df.index = df['date']\n",
    "df.head()"
   ]
  },
  {
   "cell_type": "code",
   "execution_count": null,
   "metadata": {},
   "outputs": [],
   "source": [
    "ax = df.daily_counts.plot.bar(figsize=(16,4))\n",
    "\n",
    "# xlabels: print only once every week\n",
    "xindices = list(range(0,len(df),7))\n",
    "xlabels = df.index.strftime('%b %d (%a)')\n",
    "ax.set_xticks(xindices)\n",
    "ax.set_xticklabels(xlabels[xindices])\n",
    "plt.xlabel('')\n",
    "\n",
    "# Add annotations\n",
    "dates = {\n",
    "    '2020-03-20': 'Stay-at-home order',\n",
    "    '2020-06-08': 'Phase 1',\n",
    "    '2020-06-22': 'Phase 2',\n",
    "    '2020-07-06': 'Phase 3',\n",
    "    '2020-07-20': 'Phase 4',\n",
    "}\n",
    "annotation = [(i, date) for i, date in enumerate(df.index.strftime('%Y-%m-%d').tolist()) if date in dates]\n",
    "for annot_i, annot_text in annotation: \n",
    "    ax.axvline(annot_i, color='gold', linestyle='--')\n",
    "    ax.text(x=annot_i+1, y=2000, s='%s\\n%s'%(dates[annot_text], \n",
    "                                               xlabels[annot_i]))\n",
    "\n",
    "ax.grid(True, alpha=.3)\n",
    "plt.ylabel('Number of SD Complaints')\n",
    "min_date = df.index.min().strftime('%b %d')\n",
    "max_date = df.index.max().strftime('%b %d')\n",
    "_ = plt.title('Daily Social Distancing Complaint Volume (%s, 2020 - %s, 2020)'%(min_date, max_date))"
   ]
  },
  {
   "cell_type": "code",
   "execution_count": null,
   "metadata": {},
   "outputs": [],
   "source": []
  }
 ],
 "metadata": {
  "kernelspec": {
   "display_name": "Jupyter3_BH",
   "language": "python",
   "name": "jupyter3_bh"
  },
  "language_info": {
   "codemirror_mode": {
    "name": "ipython",
    "version": 3
   },
   "file_extension": ".py",
   "mimetype": "text/x-python",
   "name": "python",
   "nbconvert_exporter": "python",
   "pygments_lexer": "ipython3",
   "version": "3.7.4"
  }
 },
 "nbformat": 4,
 "nbformat_minor": 2
}
